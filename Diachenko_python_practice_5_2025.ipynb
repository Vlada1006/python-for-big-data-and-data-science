{
  "nbformat": 4,
  "nbformat_minor": 0,
  "metadata": {
    "colab": {
      "provenance": []
    },
    "kernelspec": {
      "name": "python3",
      "display_name": "Python 3"
    },
    "language_info": {
      "name": "python"
    }
  },
  "cells": [
    {
      "cell_type": "markdown",
      "source": [
        "# I. OOP"
      ],
      "metadata": {
        "id": "5qV_sehzFCTp"
      }
    },
    {
      "cell_type": "markdown",
      "source": [
        "1. (6б). Створіть клас Building, додайте три атрибути, один з яких має значення за замовчуванням та два методи на свій розсуд."
      ],
      "metadata": {
        "id": "tx_U_hOALyfg"
      }
    },
    {
      "cell_type": "code",
      "source": [
        "class Building:\n",
        "    def __init__(self, address, floors, material=\"Concrete\"):\n",
        "        self.address = address\n",
        "        self.floors = floors\n",
        "        self.material = material\n",
        "\n",
        "    def building_info(self):\n",
        "        return f\"Building at {self.address} has {self.floors} floors and is made of {self.material}.\"\n",
        "\n",
        "    def renovate(self, new_material):\n",
        "        self.material = new_material\n",
        "        return f\"The building at {self.address} has been renovated with {self.material}.\""
      ],
      "metadata": {
        "id": "-Vf895KaL88N"
      },
      "execution_count": 2,
      "outputs": []
    },
    {
      "cell_type": "markdown",
      "source": [
        "2. (2б). Створіть два обʼєкти цього класу, де один з обʼєктів створюється із дефолтним значенням атрибуту. На одному обʼєкті отримайте значення його атрибуту, а на іншому викличте один з його методів."
      ],
      "metadata": {
        "id": "X_UlOMB0L93w"
      }
    },
    {
      "cell_type": "code",
      "source": [
        "b1 = Building(\"123 Main St\", 5)\n",
        "b2 = Building(\"456 Elm St\", 10, \"Steel\")\n",
        "\n",
        "print(b1.material)\n",
        "print(b2.renovate(\"Glass\"))"
      ],
      "metadata": {
        "id": "7gBu0ESOMCpG",
        "colab": {
          "base_uri": "https://localhost:8080/"
        },
        "outputId": "619a77c5-4a65-4639-8497-3d81e1f8093d"
      },
      "execution_count": 3,
      "outputs": [
        {
          "output_type": "stream",
          "name": "stdout",
          "text": [
            "Concrete\n",
            "The building at 456 Elm St has been renovated with Glass.\n"
          ]
        }
      ]
    },
    {
      "cell_type": "markdown",
      "source": [
        "3. (5б). Створіть клас, де атрибути мають різні рівні доступу. Спробуйте отримати їхні значення та опишіть результати."
      ],
      "metadata": {
        "id": "HoqSCZt1MHn5"
      }
    },
    {
      "cell_type": "code",
      "source": [
        "class Building:\n",
        "    def __init__(self, address, floors, material=\"Concrete\"):\n",
        "        self.address = address\n",
        "        self._floors = floors\n",
        "        self.__material = material\n",
        "\n",
        "    def building_info(self):\n",
        "        return f\"Building at {self.address} has {self._floors} floors and is made of {self.__material}.\"\n",
        "\n",
        "    def renovate(self, new_material):\n",
        "        self.__material = new_material\n",
        "        return f\"The building at {self.address} has been renovated with {self.__material}.\"\n",
        "\n",
        "    def get_material(self):\n",
        "        return self.__material\n",
        "b1 = Building(\"123 Main St\", 5)\n",
        "\n",
        "print(b1.address)\n",
        "print(b1._floors)\n",
        "\n",
        "try:\n",
        "    print(b1.__material)\n",
        "except AttributeError:\n",
        "    print(\"You cannot access this attribute.\")\n",
        "print(b1.get_material())\n"
      ],
      "metadata": {
        "id": "r9b3vJxBMSPV",
        "colab": {
          "base_uri": "https://localhost:8080/"
        },
        "outputId": "f113efda-18d5-4adb-bfe0-c046a8423807"
      },
      "execution_count": 5,
      "outputs": [
        {
          "output_type": "stream",
          "name": "stdout",
          "text": [
            "123 Main St\n",
            "5\n",
            "You cannot access this attribute.\n",
            "Concrete\n"
          ]
        }
      ]
    },
    {
      "cell_type": "markdown",
      "source": [
        "Я не змогла отримати спочатку значення __material, бо він не доступний просто так, може бути доступним тільки через спеціальний метод."
      ],
      "metadata": {
        "id": "JkCFhf5AHfBB"
      }
    },
    {
      "cell_type": "markdown",
      "source": [
        "4. (7б). Як ви розумієте термін self? Для чого використовується метод __init __?"
      ],
      "metadata": {
        "id": "5op2m2vgMSkZ"
      }
    },
    {
      "cell_type": "markdown",
      "source": [
        "self використовується для доступу до атрибутів та методів цього екземпляра. Коли створюється об'єкт класу, self дозволяє йому працювати з власними даними.\n",
        "__init __ є конструктором класу. Він викликається автоматично при створенні нового об'єкта і використовується для ініціалізації його атрибутів."
      ],
      "metadata": {
        "id": "DyiPqNRvMasx"
      }
    },
    {
      "cell_type": "markdown",
      "source": [
        "5. (9б). Створіть клас 3D-фігура без атрибутів, з методом get_volume для отримання об'єму фігури, що повертає 0 та __add __, який приймає self та other в якості аргументів, а повертає суму об'ємів 3d-фігур self та other."
      ],
      "metadata": {
        "id": "-6X8EGfjMd2y"
      }
    },
    {
      "cell_type": "code",
      "source": [
        "class ThreeDFigure:\n",
        "    def get_volume(self):\n",
        "        return 0\n",
        "\n",
        "    def __add__(self, other):\n",
        "        if isinstance(other, ThreeDFigure):\n",
        "            return self.get_volume() + other.get_volume()\n",
        "        raise TypeError(\"Можна додавати тільки об'єкти класу ThreeDFigure\")\n",
        "figure1 = ThreeDFigure()\n",
        "figure2 = ThreeDFigure()\n",
        "\n",
        "print(figure1.get_volume())\n",
        "print(figure1 + figure2)"
      ],
      "metadata": {
        "id": "4rvO_wYUMaEr",
        "colab": {
          "base_uri": "https://localhost:8080/"
        },
        "outputId": "74523b06-03c9-4364-839a-97c4a0d5f76f"
      },
      "execution_count": 6,
      "outputs": [
        {
          "output_type": "stream",
          "name": "stdout",
          "text": [
            "0\n",
            "0\n"
          ]
        }
      ]
    },
    {
      "cell_type": "markdown",
      "source": [
        "6. (11б). Створіть 2 дочірніх класи від 3d-фігура: Циліндр та Куб, які мають атрибути, необхідні для розрахунку об'єму. Визначте метод get_volume в кожному з них так, щоби вони розраховували об'єм у залежності від формули для кожного типу фігури. Створіть обʼєкт класу Циліндр та обʼєкт класу Куб. Виконайте операцію суми за допомогою оператора + між ними, аби знайти сумарний об'єм."
      ],
      "metadata": {
        "id": "SFcKnnv5Mo_z"
      }
    },
    {
      "cell_type": "code",
      "source": [
        "import math\n",
        "\n",
        "class ThreeDFigure:\n",
        "    def get_volume(self):\n",
        "        return 0\n",
        "\n",
        "    def __add__(self, other):\n",
        "        if isinstance(other, ThreeDFigure):\n",
        "            return self.get_volume() + other.get_volume()\n",
        "        raise TypeError(\"Можна додавати тільки об'єкти класу ThreeDFigure\")\n",
        "\n",
        "class Cylinder(ThreeDFigure):\n",
        "    def __init__(self, radius, height):\n",
        "        self.radius = radius\n",
        "        self.height = height\n",
        "\n",
        "    def get_volume(self):\n",
        "        return math.pi * self.radius ** 2 * self.height\n",
        "\n",
        "class Cube(ThreeDFigure):\n",
        "    def __init__(self, side):\n",
        "        self.side = side\n",
        "\n",
        "    def get_volume(self):\n",
        "        return self.side ** 3\n",
        "\n",
        "cylinder = Cylinder(3, 5)\n",
        "cube = Cube(4)\n",
        "print(\"Об'єм циліндра:\", cylinder.get_volume())\n",
        "print(\"Об'єм куба:\", cube.get_volume())\n",
        "total_volume = cylinder + cube\n",
        "print(\"Сумарний об'єм:\", total_volume)\n"
      ],
      "metadata": {
        "id": "H3GVNr69Muf3",
        "colab": {
          "base_uri": "https://localhost:8080/"
        },
        "outputId": "aaae9c44-f08b-457b-e8e9-f5efc70d73bd"
      },
      "execution_count": 8,
      "outputs": [
        {
          "output_type": "stream",
          "name": "stdout",
          "text": [
            "Об'єм циліндра: 141.3716694115407\n",
            "Об'єм куба: 64\n",
            "Сумарний об'єм: 205.3716694115407\n"
          ]
        }
      ]
    },
    {
      "cell_type": "markdown",
      "source": [
        "7. (3б). Продемонструйте різницю між isinstance та issubclass."
      ],
      "metadata": {
        "id": "HCvR206YMvLK"
      }
    },
    {
      "cell_type": "code",
      "source": [
        "class Animal:\n",
        "    pass\n",
        "\n",
        "class Dog(Animal):\n",
        "    pass\n",
        "\n",
        "d = Dog()\n",
        "\n",
        "print(isinstance(d, Dog))\n",
        "print(isinstance(d, Animal))\n",
        "print(isinstance(d, object))\n",
        "\n",
        "print(issubclass(Dog, Animal))\n",
        "print(issubclass(Animal, Dog))\n",
        "print(issubclass(Dog, object))"
      ],
      "metadata": {
        "id": "L_V1bBvDM0GN",
        "colab": {
          "base_uri": "https://localhost:8080/"
        },
        "outputId": "5acf2674-d23a-411c-ca7d-b9cdd3a75b01"
      },
      "execution_count": 10,
      "outputs": [
        {
          "output_type": "stream",
          "name": "stdout",
          "text": [
            "True\n",
            "True\n",
            "True\n",
            "True\n",
            "False\n",
            "True\n"
          ]
        }
      ]
    },
    {
      "cell_type": "markdown",
      "source": [
        "8. (13б). Створіть клас EWallet з приватними атрибутами balance та id. Реалізуйте методи поповнення та зняття коштів, забезпечивши належну інкапсуляцію. Підказка: використовуйте декоратори property та setter."
      ],
      "metadata": {
        "id": "jjsaBZ-iM0Qq"
      }
    },
    {
      "cell_type": "code",
      "source": [
        "class EWallet:\n",
        "    def __init__(self, id, balance=0.0):\n",
        "        self.__id = id\n",
        "        self.__balance = balance\n",
        "\n",
        "    @property\n",
        "    def balance(self):\n",
        "        return self.__balance\n",
        "\n",
        "    @balance.setter\n",
        "    def balance(self, value):\n",
        "        if value < 0:\n",
        "            print(\"Баланс не може бути від'ємним!\")\n",
        "        else:\n",
        "            self.__balance = value\n",
        "\n",
        "    @property\n",
        "    def id(self):\n",
        "        return self.__id\n",
        "\n",
        "    def deposit(self, amount):\n",
        "        if amount <= 0:\n",
        "            print(\"Сума поповнення повинна бути позитивною!\")\n",
        "        else:\n",
        "            self.__balance += amount\n",
        "            print(f\"Поповнено на {amount}. Поточний баланс: {self.__balance}\")\n",
        "\n",
        "    def withdraw(self, amount):\n",
        "        if amount <= 0:\n",
        "            print(\"Сума зняття повинна бути позитивною!\")\n",
        "        elif amount > self.__balance:\n",
        "            print(\"Недостатньо коштів для зняття!\")\n",
        "        else:\n",
        "            self.__balance -= amount\n",
        "            print(f\"Знято {amount}. Поточний баланс: {self.__balance}\")\n",
        "wallet = EWallet(id=\"12345\", balance=100.0)\n",
        "print(f\"Баланс гаманця: {wallet.balance}\")\n",
        "wallet.deposit(45)\n",
        "wallet.withdraw(700)\n",
        "print(f\"Оновлений баланс: {wallet.balance}\")"
      ],
      "metadata": {
        "id": "xCvZ7lh8M7YA",
        "colab": {
          "base_uri": "https://localhost:8080/"
        },
        "outputId": "d156b2f3-1b6e-4e0b-deaa-bdf04fd7072b"
      },
      "execution_count": 12,
      "outputs": [
        {
          "output_type": "stream",
          "name": "stdout",
          "text": [
            "Баланс гаманця: 100.0\n",
            "Поповнено на 45. Поточний баланс: 145.0\n",
            "Недостатньо коштів для зняття!\n",
            "Оновлений баланс: 145.0\n"
          ]
        }
      ]
    },
    {
      "cell_type": "markdown",
      "source": [
        "9. (11б). Створіть клас ShoppingCart, який містить список об'єктів типу Item. Реалізуйте методи для додавання айтемів, їх видалення та відображення списку айтемів."
      ],
      "metadata": {
        "id": "tIzL2SJTM8ft"
      }
    },
    {
      "cell_type": "code",
      "source": [
        "class Item:\n",
        "    def __init__(self, name, price):\n",
        "        self.name = name\n",
        "        self.price = price\n",
        "\n",
        "    def __str__(self):\n",
        "        return f\"{self.name}: ${self.price}\"\n",
        "\n",
        "class ShoppingCart:\n",
        "    def __init__(self):\n",
        "        self.items = []\n",
        "\n",
        "    def add_item(self, item):\n",
        "        if isinstance(item, Item):\n",
        "            self.items.append(item)\n",
        "            print(f\"Додано товар: {item}\")\n",
        "        else:\n",
        "            print(\"Помилка: Товар не додано.\")\n",
        "\n",
        "    def remove_item(self, item):\n",
        "        if item in self.items:\n",
        "            self.items.remove(item)\n",
        "            print(f\"Видалено товар: {item}\")\n",
        "        else:\n",
        "            print(\"Помилка: Товар не знайдено в корзині.\")\n",
        "\n",
        "    def show_items(self):\n",
        "        if self.items:\n",
        "            print(\"Список товарів у кошику:\")\n",
        "            for item in self.items:\n",
        "                print(item)\n",
        "        else:\n",
        "            print(\"Корзина порожня.\")\n",
        "\n",
        "item1 = Item(\"Смартфон\", 799.99)\n",
        "item2 = Item(\"Ноутбук\", 1299.99)\n",
        "item3 = Item(\"Навушники\", 199.99)\n",
        "\n",
        "cart = ShoppingCart()\n",
        "\n",
        "cart.add_item(item1)\n",
        "cart.add_item(item2)\n",
        "cart.add_item(item3)\n",
        "\n",
        "cart.show_items()\n",
        "\n",
        "cart.remove_item(item2)\n",
        "\n",
        "cart.show_items()\n",
        "\n",
        "cart.remove_item(item2)"
      ],
      "metadata": {
        "id": "HWxfJKLtNAUZ",
        "colab": {
          "base_uri": "https://localhost:8080/"
        },
        "outputId": "ab41363a-7c65-4d44-90a8-b90c7bc59dba"
      },
      "execution_count": 14,
      "outputs": [
        {
          "output_type": "stream",
          "name": "stdout",
          "text": [
            "Додано товар: Смартфон: $799.99\n",
            "Додано товар: Ноутбук: $1299.99\n",
            "Додано товар: Навушники: $199.99\n",
            "Список товарів у кошику:\n",
            "Смартфон: $799.99\n",
            "Ноутбук: $1299.99\n",
            "Навушники: $199.99\n",
            "Видалено товар: Ноутбук: $1299.99\n",
            "Список товарів у кошику:\n",
            "Смартфон: $799.99\n",
            "Навушники: $199.99\n",
            "Помилка: Товар не знайдено в корзині.\n"
          ]
        }
      ]
    },
    {
      "cell_type": "markdown",
      "source": [
        "10. (13б). Створіть клас Vehicle з атрибутами brand (manufacturer) та production_age. Створіть ще один клас Engine з такими атрибутами, як type (ex. petrol) та size (volume, litres). Створіть клас Car, який успадковує обидва класи Vehicle та Engine. Продемонструйте використання множинної спадковості, створивши обʼєкт класу Car та отримавши mro для цього класу."
      ],
      "metadata": {
        "id": "lmV8pAwwNIqu"
      }
    },
    {
      "cell_type": "code",
      "source": [
        "class Vehicle:\n",
        "    def __init__(self, brand, production_age):\n",
        "        self.brand = brand\n",
        "        self.production_age = production_age\n",
        "\n",
        "    def get_info(self):\n",
        "        return f\"Виробник: {self.brand}, Вік: {self.production_age} років\"\n",
        "\n",
        "class Engine:\n",
        "    def __init__(self, engine_type, size):\n",
        "        self.engine_type = engine_type\n",
        "        self.size = size\n",
        "\n",
        "    def get_engine_info(self):\n",
        "        return f\"Тип двигуна: {self.engine_type}, Об'єм: {self.size} л\"\n",
        "\n",
        "class Car(Vehicle, Engine):\n",
        "    def __init__(self, brand, production_age, engine_type, size):\n",
        "        Vehicle.__init__(self, brand, production_age)\n",
        "        Engine.__init__(self, engine_type, size)\n",
        "\n",
        "    def get_car_info(self):\n",
        "        return f\"{self.get_info()}, {self.get_engine_info()}\"\n",
        "\n",
        "my_car = Car(brand=\"Toyota\", production_age=5, engine_type=\"Petrol\", size=2.0)\n",
        "\n",
        "print(my_car.get_car_info())\n",
        "print(\"MRO для класу Car:\", Car.mro())"
      ],
      "metadata": {
        "id": "R49grKlWNPeN",
        "colab": {
          "base_uri": "https://localhost:8080/"
        },
        "outputId": "81122fd7-ed0f-45ed-8d2a-52b8b8037d15"
      },
      "execution_count": 15,
      "outputs": [
        {
          "output_type": "stream",
          "name": "stdout",
          "text": [
            "Виробник: Toyota, Вік: 5 років, Тип двигуна: Petrol, Об'єм: 2.0 л\n",
            "MRO для класу Car: [<class '__main__.Car'>, <class '__main__.Vehicle'>, <class '__main__.Engine'>, <class 'object'>]\n"
          ]
        }
      ]
    },
    {
      "cell_type": "markdown",
      "source": [
        "# II. Iterator"
      ],
      "metadata": {
        "id": "dIJyUiNBFG8G"
      }
    },
    {
      "cell_type": "markdown",
      "source": [
        "11. (4б). Визначте рядок(str) з 4ма різними за значенням символами. Створіть ітератор на основі цього рядка. Викличте 5 разів функцію next на ітераторі, 4ри перших з них огорніть у ф-цію print()."
      ],
      "metadata": {
        "id": "13vsm0NyKIzL"
      }
    },
    {
      "cell_type": "code",
      "source": [
        "my_string = \"abcd\"\n",
        "iterator = iter(my_string)\n",
        "\n",
        "print(next(iterator))\n",
        "print(next(iterator))\n",
        "print(next(iterator))\n",
        "print(next(iterator))\n",
        "next(iterator)"
      ],
      "metadata": {
        "id": "81ntabAkKuz-",
        "colab": {
          "base_uri": "https://localhost:8080/",
          "height": 245
        },
        "outputId": "d7ce9cf8-c527-4a61-cabe-2022a4bc1437"
      },
      "execution_count": 18,
      "outputs": [
        {
          "output_type": "stream",
          "name": "stdout",
          "text": [
            "a\n",
            "b\n",
            "c\n",
            "d\n"
          ]
        },
        {
          "output_type": "error",
          "ename": "StopIteration",
          "evalue": "",
          "traceback": [
            "\u001b[0;31m---------------------------------------------------------------------------\u001b[0m",
            "\u001b[0;31mStopIteration\u001b[0m                             Traceback (most recent call last)",
            "\u001b[0;32m<ipython-input-18-755368c9de2e>\u001b[0m in \u001b[0;36m<cell line: 0>\u001b[0;34m()\u001b[0m\n\u001b[1;32m      6\u001b[0m \u001b[0mprint\u001b[0m\u001b[0;34m(\u001b[0m\u001b[0mnext\u001b[0m\u001b[0;34m(\u001b[0m\u001b[0miterator\u001b[0m\u001b[0;34m)\u001b[0m\u001b[0;34m)\u001b[0m\u001b[0;34m\u001b[0m\u001b[0;34m\u001b[0m\u001b[0m\n\u001b[1;32m      7\u001b[0m \u001b[0mprint\u001b[0m\u001b[0;34m(\u001b[0m\u001b[0mnext\u001b[0m\u001b[0;34m(\u001b[0m\u001b[0miterator\u001b[0m\u001b[0;34m)\u001b[0m\u001b[0;34m)\u001b[0m\u001b[0;34m\u001b[0m\u001b[0;34m\u001b[0m\u001b[0m\n\u001b[0;32m----> 8\u001b[0;31m \u001b[0mnext\u001b[0m\u001b[0;34m(\u001b[0m\u001b[0miterator\u001b[0m\u001b[0;34m)\u001b[0m\u001b[0;34m\u001b[0m\u001b[0;34m\u001b[0m\u001b[0m\n\u001b[0m",
            "\u001b[0;31mStopIteration\u001b[0m: "
          ]
        }
      ]
    },
    {
      "cell_type": "markdown",
      "source": [
        "А що якщо викликати цю ж функцію на рядку?"
      ],
      "metadata": {
        "id": "aekWHGXOLRsO"
      }
    },
    {
      "cell_type": "code",
      "source": [
        "my_string = \"abcd\"\n",
        "print(next(my_string))"
      ],
      "metadata": {
        "id": "mxATGsErLV1i",
        "colab": {
          "base_uri": "https://localhost:8080/",
          "height": 158
        },
        "outputId": "45ff1c06-c0cd-4ef2-8644-38294617b992"
      },
      "execution_count": 19,
      "outputs": [
        {
          "output_type": "error",
          "ename": "TypeError",
          "evalue": "'str' object is not an iterator",
          "traceback": [
            "\u001b[0;31m---------------------------------------------------------------------------\u001b[0m",
            "\u001b[0;31mTypeError\u001b[0m                                 Traceback (most recent call last)",
            "\u001b[0;32m<ipython-input-19-e65915a8fcb6>\u001b[0m in \u001b[0;36m<cell line: 0>\u001b[0;34m()\u001b[0m\n\u001b[1;32m      1\u001b[0m \u001b[0mmy_string\u001b[0m \u001b[0;34m=\u001b[0m \u001b[0;34m\"abcd\"\u001b[0m\u001b[0;34m\u001b[0m\u001b[0;34m\u001b[0m\u001b[0m\n\u001b[0;32m----> 2\u001b[0;31m \u001b[0mprint\u001b[0m\u001b[0;34m(\u001b[0m\u001b[0mnext\u001b[0m\u001b[0;34m(\u001b[0m\u001b[0mmy_string\u001b[0m\u001b[0;34m)\u001b[0m\u001b[0;34m)\u001b[0m\u001b[0;34m\u001b[0m\u001b[0;34m\u001b[0m\u001b[0m\n\u001b[0m",
            "\u001b[0;31mTypeError\u001b[0m: 'str' object is not an iterator"
          ]
        }
      ]
    },
    {
      "cell_type": "markdown",
      "source": [
        "Так не можна зробити, бо для того, щоб використовувати next() для рядка, спочатку потрібно створити ітератор через функцію iter(), а потім викликати next() на цьому ітераторі."
      ],
      "metadata": {
        "id": "asRKCbQuOw0N"
      }
    },
    {
      "cell_type": "markdown",
      "source": [
        " 12. (5б). Опишіть своїми словами в одному реченні, як ви розумієте різницю між ітерабельними обʼєктами та ітераторами (можна на прикладі)."
      ],
      "metadata": {
        "id": "XwtMEopwJ4pH"
      }
    },
    {
      "cell_type": "markdown",
      "source": [
        "Ітерабельний об'єкт — це об'єкт, по якому можна пройтися (наприклад, список або рядок), тоді як ітератор — це об'єкт, що зберігає поточний стан і може по черзі повертати елементи цього ітерабельного об'єкта через виклик функції next(). Наприклад, рядок є ітерабельним об'єктом, а ітератор, створений за допомогою iter(), дозволяє отримати кожен символ по черзі."
      ],
      "metadata": {
        "id": "-sHrODc3KFn8"
      }
    },
    {
      "cell_type": "markdown",
      "source": [
        "13. (11б). Створіть клас, що має визначений Iterator Protocol та при кожному виклику next повертає назву дня тижня, поки вони не вичерпаються. Зверніть увагу, що порядок має значення."
      ],
      "metadata": {
        "id": "E9qJWmNbK8Gl"
      }
    },
    {
      "cell_type": "code",
      "source": [
        "class ColorsIterator:\n",
        "    def __init__(self):\n",
        "        self.colors = [\"Red\", \"Green\", \"Blue\", \"Yellow\", \"Purple\", \"Orange\"]\n",
        "        self.index = 0\n",
        "\n",
        "    def __iter__(self):\n",
        "        return self\n",
        "\n",
        "    def __next__(self):\n",
        "        if self.index < len(self.colors):\n",
        "            color = self.colors[self.index]\n",
        "            self.index += 1\n",
        "            return color\n",
        "        else:\n",
        "            raise StopIteration\n",
        "\n",
        "colors_iterator = ColorsIterator()\n",
        "for color in colors_iterator:\n",
        "    print(color)"
      ],
      "metadata": {
        "id": "cqx-g_RsLo6I",
        "colab": {
          "base_uri": "https://localhost:8080/"
        },
        "outputId": "587e5397-be27-4bd5-f56c-c59b7d746437"
      },
      "execution_count": 21,
      "outputs": [
        {
          "output_type": "stream",
          "name": "stdout",
          "text": [
            "Red\n",
            "Green\n",
            "Blue\n",
            "Yellow\n",
            "Purple\n",
            "Orange\n"
          ]
        }
      ]
    },
    {
      "cell_type": "markdown",
      "source": [
        "# Вітаю! Ви велика(ий) молодець, що впоралась(вся). Похваліть себе та побалуйте чимось приємним. Я Вами пишаюся."
      ],
      "metadata": {
        "id": "Z3E3S_s1Fv7-"
      }
    }
  ]
}